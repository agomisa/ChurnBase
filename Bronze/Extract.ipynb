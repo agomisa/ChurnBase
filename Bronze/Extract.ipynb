{
 "cells": [
  {
   "cell_type": "code",
   "execution_count": 0,
   "metadata": {
    "application/vnd.databricks.v1+cell": {
     "cellMetadata": {},
     "inputWidgets": {},
     "nuid": "fcf72a24-d170-4acb-a1e3-4cfcf4ebd3c1",
     "showTitle": false,
     "tableResultSettingsMap": {},
     "title": ""
    }
   },
   "outputs": [],
   "source": [
    "from pyspark.sql import functions as F\n",
    "\n",
    "def load_projectviews_to_delta(bronze_path, delta_table, checkpoint_path):\n",
    "    \"\"\"\n",
    "    Reads plain text files from the specified S3 path\n",
    "    and writes the data as a Delta table partitioned by the file path.\n",
    "    Parameters:\n",
    "    - bronze_path: str, S3 path with wildcard to read files \n",
    "    - delta_table: str, full name of the Delta table to write \n",
    "    - checkpoint_path: str,  path where the streaming job will store checkpoint information to enable fault-tolerance and exactly-once processing    \n",
    "    \"\"\"\n",
    "\n",
    "    df = (\n",
    "    spark.readStream\n",
    "    .format(\"text\")\n",
    "    .option(\"path\", bronze_path)\n",
    "    .option(\"includeFileName\", \"true\")\n",
    "    .load()\n",
    "    )\n",
    "\n",
    "    df_with_path = df.withColumn(\"file_path\", F.col(\"_metadata.file_path\"))\n",
    "\n",
    "    (df_with_path.writeStream\n",
    "        .format(\"delta\")\n",
    "        .option(\"checkpointLocation\", checkpoint_path)\n",
    "        .partitionBy(\"file_path\")\n",
    "        .outputMode(\"append\")\n",
    "        .trigger(once=True)\n",
    "        .toTable(delta_table)\n",
    "    )\n",
    "\n",
    "bronze_path = \"s3://dest-wikimedia/projectviews/2025/2025-01/*\"\n",
    "delta_table = \"projectviews.bronze.raw_projectsview\" \n",
    "checkpoint_path = \"/Volumes/projectviews/bronze/checkpoints\"  \n",
    "\n",
    "load_projectviews_to_delta(spark, bronze_path, delta_table, checkpoint_path)"
   ]
  }
 ],
 "metadata": {
  "application/vnd.databricks.v1+notebook": {
   "computePreferences": null,
   "dashboards": [],
   "environmentMetadata": {
    "base_environment": "",
    "environment_version": "2"
   },
   "inputWidgetPreferences": null,
   "language": "python",
   "notebookMetadata": {
    "pythonIndentUnit": 4
   },
   "notebookName": "Extract",
   "widgets": {}
  },
  "language_info": {
   "name": "python"
  }
 },
 "nbformat": 4,
 "nbformat_minor": 0
}
