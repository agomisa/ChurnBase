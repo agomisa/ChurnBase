{
 "cells": [
  {
   "cell_type": "code",
   "execution_count": 0,
   "metadata": {
    "application/vnd.databricks.v1+cell": {
     "cellMetadata": {
      "byteLimit": 2048000,
      "rowLimit": 10000
     },
     "inputWidgets": {},
     "nuid": "e9fa159b-8a33-4eb7-a59a-1b6afd179d74",
     "showTitle": false,
     "tableResultSettingsMap": {},
     "title": ""
    }
   },
   "outputs": [],
   "source": [
    "import boto3\n",
    "import io\n",
    "import gzip\n",
    "import os\n",
    "import re\n",
    "from datetime import datetime\n",
    "import pyspark.sql.functions as F\n",
    "from dotenv import load_dotenv\n",
    "from pyspark.sql import SparkSession\n",
    "from pyspark.sql.types import StructType, StructField, StringType, IntegerType\n",
    "\n",
    "load_dotenv()  \n",
    "\n",
    "aws_access_key_id = os.getenv('AWS_ACCESS_KEY_ID')\n",
    "aws_secret_access_key = os.getenv('AWS_SECRET_ACCESS_KEY')\n",
    "aws_region = os.getenv('AWS_REGION', 'eu-central-1')\n",
    "\n",
    "def get_s3_client(aws_access_key_id, aws_secret_access_key, region_name='eu-central-1'):\n",
    "    \"\"\"Return a boto3 S3 client given the access and secret keys.\"\"\"\n",
    "    s3_client = boto3.client(\n",
    "        's3',\n",
    "        aws_access_key_id=aws_access_key_id,\n",
    "        aws_secret_access_key=aws_secret_access_key,\n",
    "        region_name=region_name\n",
    "    )\n",
    "    return s3_client\n",
    "\n",
    "s3_client = get_s3_client(aws_access_key_id, aws_secret_access_key)"
   ]
  },
  {
   "cell_type": "markdown",
   "metadata": {
    "application/vnd.databricks.v1+cell": {
     "cellMetadata": {},
     "inputWidgets": {},
     "nuid": "96bce75d-369a-4d8c-b24a-635c85c92fff",
     "showTitle": false,
     "tableResultSettingsMap": {},
     "title": ""
    }
   },
   "source": [
    "## Contained data\n",
    "\n",
    "https://wikitech.wikimedia.org/wiki/Data_Platform/Data_Lake/Traffic/Pageviews\n",
    "\n",
    "domain_code | page_title| count_views| total_response_size"
   ]
  },
  {
   "cell_type": "code",
   "execution_count": 0,
   "metadata": {
    "application/vnd.databricks.v1+cell": {
     "cellMetadata": {
      "byteLimit": 2048000,
      "rowLimit": 10000
     },
     "inputWidgets": {},
     "nuid": "c48573fc-517e-4543-b700-c8e93332fc2b",
     "showTitle": false,
     "tableResultSettingsMap": {},
     "title": ""
    }
   },
   "outputs": [],
   "source": [
    "\n",
    "def read_gz_lines_from_s3(s3_client, bucket, key):\n",
    "    \"\"\"Download a .gz file from S3 and yield its lines decoded as utf-8 strings.\"\"\"\n",
    "    obj = s3_client.get_object(Bucket=bucket, Key=key)\n",
    "    with gzip.GzipFile(fileobj=io.BytesIO(obj[\"Body\"].read()), mode=\"rb\") as f:\n",
    "        for line in f:\n",
    "            yield line.decode(\"utf-8\").strip()"
   ]
  },
  {
   "cell_type": "code",
   "execution_count": 0,
   "metadata": {
    "application/vnd.databricks.v1+cell": {
     "cellMetadata": {
      "byteLimit": 2048000,
      "rowLimit": 10000
     },
     "inputWidgets": {},
     "nuid": "a5a4d7d9-d5b1-40e8-bbeb-da171c252a88",
     "showTitle": false,
     "tableResultSettingsMap": {},
     "title": ""
    }
   },
   "outputs": [],
   "source": [
    "response = s3_client.list_objects_v2(Bucket='dest-wikimedia')\n",
    "print([obj['Key'] for obj in response.get('Contents', [])])"
   ]
  },
  {
   "cell_type": "code",
   "execution_count": 0,
   "metadata": {
    "application/vnd.databricks.v1+cell": {
     "cellMetadata": {
      "byteLimit": 2048000,
      "rowLimit": 10000
     },
     "inputWidgets": {},
     "nuid": "7e3ba4d0-a526-40e4-8beb-7374d39512c6",
     "showTitle": false,
     "tableResultSettingsMap": {},
     "title": ""
    }
   },
   "outputs": [],
   "source": []
  },
  {
   "cell_type": "code",
   "execution_count": 0,
   "metadata": {
    "application/vnd.databricks.v1+cell": {
     "cellMetadata": {
      "byteLimit": 2048000,
      "rowLimit": 10000
     },
     "inputWidgets": {},
     "nuid": "dcfe5fbb-0415-4df9-a6fa-695456668b44",
     "showTitle": false,
     "tableResultSettingsMap": {},
     "title": ""
    }
   },
   "outputs": [],
   "source": []
  },
  {
   "cell_type": "code",
   "execution_count": 0,
   "metadata": {
    "application/vnd.databricks.v1+cell": {
     "cellMetadata": {
      "byteLimit": 2048000,
      "rowLimit": 10000
     },
     "inputWidgets": {},
     "nuid": "ff13952e-d485-4ad1-888e-a9709c86f488",
     "showTitle": false,
     "tableResultSettingsMap": {},
     "title": ""
    }
   },
   "outputs": [],
   "source": [
    "parsed_rows = []\n",
    "\n",
    "for line in read_gz_lines_from_s3(s3_client, 'dest-wikimedia', 'pageviews/2025/2025-01/pageviews-20250101-000000.gz'):\n",
    "    parsed = parse_line(line)\n",
    "    if parsed:\n",
    "        parsed_rows.append(parsed)"
   ]
  },
  {
   "cell_type": "code",
   "execution_count": 0,
   "metadata": {
    "application/vnd.databricks.v1+cell": {
     "cellMetadata": {
      "byteLimit": 2048000,
      "rowLimit": 10000
     },
     "inputWidgets": {},
     "nuid": "6cec33f5-7a32-4222-ba84-d53fd79fbb9f",
     "showTitle": false,
     "tableResultSettingsMap": {},
     "title": ""
    }
   },
   "outputs": [],
   "source": [
    "schema = StructType([\n",
    "    StructField(\"domain_code\", StringType(), True),\n",
    "    StructField(\"page_title\", StringType(), True),\n",
    "    StructField(\"count_views\", IntegerType(), True),\n",
    "    StructField(\"total_response_size\", IntegerType(), True)\n",
    "])\n",
    "\n",
    "df = spark.createDataFrame(parsed_rows, schema=schema)\n"
   ]
  },
  {
   "cell_type": "code",
   "execution_count": 0,
   "metadata": {
    "application/vnd.databricks.v1+cell": {
     "cellMetadata": {
      "byteLimit": 2048000,
      "rowLimit": 10000
     },
     "inputWidgets": {},
     "nuid": "ff34d179-e95f-4e2f-91b7-9183f9c4e0eb",
     "showTitle": false,
     "tableResultSettingsMap": {},
     "title": ""
    }
   },
   "outputs": [],
   "source": [
    "df.show()"
   ]
  },
  {
   "cell_type": "code",
   "execution_count": 0,
   "metadata": {
    "application/vnd.databricks.v1+cell": {
     "cellMetadata": {
      "byteLimit": 2048000,
      "rowLimit": 10000
     },
     "inputWidgets": {},
     "nuid": "a221a80d-ba0d-4b01-96d5-5368c9087e52",
     "showTitle": false,
     "tableResultSettingsMap": {},
     "title": ""
    }
   },
   "outputs": [],
   "source": [
    "def read_gz_lines_from_s3(s3_client, bucket, key):\n",
    "    obj = s3_client.get_object(Bucket=bucket, Key=key)\n",
    "    with gzip.GzipFile(fileobj=io.BytesIO(obj[\"Body\"].read()), mode=\"rb\") as f:\n",
    "        for line in f:\n",
    "            yield line.decode(\"utf-8\").strip()\n",
    "\n",
    "def extract_timestamp_from_key(key):\n",
    "    # path ejemplo: 'pageviews-20250101-000000.gz'\n",
    "    match = re.search(r'pageviews-(\\d{8})-(\\d{6})\\.gz', key)\n",
    "    if match:\n",
    "        date_str = match.group(1)  # '20250101'\n",
    "        time_str = match.group(2)  # '000000'\n",
    "        timestamp_str = date_str + time_str  # '20250101000000'\n",
    "        return datetime.strptime(timestamp_str, '%Y%m%d%H%M%S')\n",
    "    else:\n",
    "        return None\n",
    "# def parse_line(line):\n",
    "#     Ejemplo: la línea es: \"wikifunctions:main_page 1 0\"\n",
    "#     Puedes cambiar el parse según tus necesidades\n",
    "#     parts = line.split()\n",
    "#     if len(parts) >= 3:\n",
    "#         return (parts[0], int(parts[1]), int(parts[2]))\n",
    "#     else:\n",
    "#         return None\n",
    "\n",
    "def parse_line(line):\n",
    "    if line.startswith('\"\" '):\n",
    "        return None\n",
    "\n",
    "    parts = line.split(\" \", 3)\n",
    "    if len(parts) == 4:\n",
    "        project, page_title, view_count, response_size = parts\n",
    "        return (\n",
    "            project.replace('\"', ''),\n",
    "            page_title,\n",
    "            int(view_count),\n",
    "            int(response_size)\n",
    "        )\n",
    "    else:\n",
    "        return None\n",
    "    \n",
    "schema = StructType([\n",
    "    StructField(\"domain_code\", StringType(), True),\n",
    "    StructField(\"page_title\", StringType(), True),\n",
    "    StructField(\"count_views\", IntegerType(), True),\n",
    "    StructField(\"total_response_size\", IntegerType(), True)\n",
    "])\n",
    "\n",
    "\n",
    "def process_file(s3_client, bucket, key):\n",
    "    timestamp = extract_timestamp_from_key(key)\n",
    "    rows = []\n",
    "    for line in read_gz_lines_from_s3(s3_client, bucket, key):\n",
    "        if line.startswith('\"\"'):  # saltear filas que empiezan con \"\"\n",
    "            continue\n",
    "        parsed = parse_line(line)\n",
    "        if parsed:\n",
    "            rows.append(parsed)\n",
    "    # Crear DataFrame temporal\n",
    "    df = spark.createDataFrame(rows, schema=schema)\n",
    "    # Agregar columna con timestamp\n",
    "    df = df.withColumn(\"event_timestamp\", F.lit(timestamp))\n",
    "    return df"
   ]
  },
  {
   "cell_type": "code",
   "execution_count": 0,
   "metadata": {
    "application/vnd.databricks.v1+cell": {
     "cellMetadata": {
      "byteLimit": 2048000,
      "rowLimit": 10000
     },
     "inputWidgets": {},
     "nuid": "a567cc91-9978-4d74-98c4-7bc87beb3588",
     "showTitle": false,
     "tableResultSettingsMap": {},
     "title": ""
    }
   },
   "outputs": [],
   "source": [
    "bucket = 'dest-wikimedia'\n",
    "key = 'pageviews/2025/2025-01/pageviews-20250101-000000.gz'\n",
    "df_file = process_file(s3_client, bucket, key)\n",
    "\n",
    "# df_all = None\n",
    "# for key in keys:\n",
    "#     df_file = process_file(s3_client, bucket, key)\n",
    "#     if df_all is None:\n",
    "#         df_all = df_file\n",
    "#     else:\n",
    "#         df_all = df_all.union(df_file)\n",
    "\n",
    "# df_all.show()"
   ]
  },
  {
   "cell_type": "code",
   "execution_count": 0,
   "metadata": {
    "application/vnd.databricks.v1+cell": {
     "cellMetadata": {
      "byteLimit": 2048000,
      "rowLimit": 10000
     },
     "inputWidgets": {},
     "nuid": "feccaaca-4dc6-48f6-9d0d-c69343623db8",
     "showTitle": false,
     "tableResultSettingsMap": {},
     "title": ""
    }
   },
   "outputs": [],
   "source": [
    "df_file.show()"
   ]
  }
 ],
 "metadata": {
  "application/vnd.databricks.v1+notebook": {
   "computePreferences": null,
   "dashboards": [],
   "environmentMetadata": {
    "base_environment": "",
    "environment_version": "2"
   },
   "inputWidgetPreferences": null,
   "language": "python",
   "notebookMetadata": {
    "pythonIndentUnit": 4
   },
   "notebookName": "read",
   "widgets": {}
  },
  "language_info": {
   "name": "python"
  }
 },
 "nbformat": 4,
 "nbformat_minor": 0
}
