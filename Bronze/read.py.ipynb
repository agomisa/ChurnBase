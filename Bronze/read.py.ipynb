{
 "cells": [
  {
   "cell_type": "code",
   "execution_count": 0,
   "metadata": {
    "application/vnd.databricks.v1+cell": {
     "cellMetadata": {
      "byteLimit": 2048000,
      "rowLimit": 10000
     },
     "inputWidgets": {},
     "nuid": "e9fa159b-8a33-4eb7-a59a-1b6afd179d74",
     "showTitle": false,
     "tableResultSettingsMap": {},
     "title": ""
    }
   },
   "outputs": [],
   "source": [
    "import os\n",
    "import re\n",
    "from datetime import datetime\n",
    "import pyspark.sql.functions as F\n",
    "from pyspark.sql import SparkSession,DataFrame\n",
    "from pyspark.sql.types import StructType, StructField, StringType, IntegerType\n",
    "from functools import reduce\n",
    "from collections import defaultdict\n",
    "# from dotenv import load_dotenv\n",
    "# load_dotenv()  "
   ]
  },
  {
   "cell_type": "markdown",
   "metadata": {
    "application/vnd.databricks.v1+cell": {
     "cellMetadata": {},
     "inputWidgets": {},
     "nuid": "96bce75d-369a-4d8c-b24a-635c85c92fff",
     "showTitle": false,
     "tableResultSettingsMap": {},
     "title": ""
    }
   },
   "source": [
    "## Parse Data\n",
    "\n",
    "https://wikitech.wikimedia.org/wiki/Data_Platform/Data_Lake/Traffic/Pageviews\n",
    "\n",
    "domain_code | count_views| total_response_size"
   ]
  },
  {
   "cell_type": "code",
   "execution_count": 0,
   "metadata": {
    "application/vnd.databricks.v1+cell": {
     "cellMetadata": {
      "byteLimit": 2048000,
      "rowLimit": 10000
     },
     "inputWidgets": {},
     "nuid": "30512904-4462-41d0-9b14-2f01d760c59d",
     "showTitle": false,
     "tableResultSettingsMap": {},
     "title": ""
    }
   },
   "outputs": [],
   "source": [
    "raw_df = spark.read.text(\"s3://dest-wikimedia/projectviews/2025/2025-01/*\")"
   ]
  },
  {
   "cell_type": "code",
   "execution_count": 0,
   "metadata": {
    "application/vnd.databricks.v1+cell": {
     "cellMetadata": {
      "byteLimit": 2048000,
      "rowLimit": 10000
     },
     "inputWidgets": {},
     "nuid": "334d563e-e255-47f7-ac27-2e0db2279b78",
     "showTitle": false,
     "tableResultSettingsMap": {},
     "title": ""
    }
   },
   "outputs": [],
   "source": [
    "parsed_df = (\n",
    "    raw_df\n",
    "    .filter(~F.col(\"value\").startswith('\"\"'))\n",
    "    .withColumn(\"split\", F.split(\"value\", \" \", 4))\n",
    "    .filter(F.size(\"split\") == 4) \n",
    "    .select(\n",
    "        F.col(\"split\")[0].alias(\"domain_code\"),\n",
    "        F.col(\"split\")[2].cast(\"int\").alias(\"count_views\"),\n",
    "        F.col(\"split\")[3].cast(\"int\").alias(\"total_response_size\"),\n",
    "        F.col(\"_metadata.file_path\").alias(\"file_path\")\n",
    "    )\n",
    "    .withColumn(\"date_str\", F.regexp_extract(F.col(\"file_path\"), r\"projectviews-(\\d{8})-(\\d{6})\", 1))\n",
    "    .withColumn(\"time_str\", F.regexp_extract(F.col(\"file_path\"), r\"projectviews-(\\d{8})-(\\d{6})\", 2))\n",
    "    .withColumn(\"event_timestamp\", F.to_timestamp(F.concat_ws(\"\", F.col(\"date_str\"), F.col(\"time_str\")), \"yyyyMMddHHmmss\"))\n",
    "    .withColumn(\"event_date\", F.to_date(\"event_timestamp\"))\n",
    "    .drop(\"date_str\", \"time_str\" ,\"file_path\" )\n",
    ")\n",
    "\n",
    "parsed_df = parsed_df.repartition(\"event_date\")"
   ]
  },
  {
   "cell_type": "code",
   "execution_count": 0,
   "metadata": {
    "application/vnd.databricks.v1+cell": {
     "cellMetadata": {
      "byteLimit": 2048000,
      "rowLimit": 10000
     },
     "inputWidgets": {},
     "nuid": "8dd28484-765f-4d57-8617-456b7baa500e",
     "showTitle": false,
     "tableResultSettingsMap": {},
     "title": ""
    }
   },
   "outputs": [],
   "source": [
    "parsed_df.write.format(\"delta\") \\\n",
    "    .option(\"mergeSchema\", \"true\")\\\n",
    "    .mode(\"append\") \\\n",
    "    .partitionBy(\"event_date\")\\\n",
    "    .saveAsTable(\"workspace.default.wikimedia_projectviews\")"
   ]
  }
 ],
 "metadata": {
  "application/vnd.databricks.v1+notebook": {
   "computePreferences": null,
   "dashboards": [],
   "environmentMetadata": {
    "base_environment": "",
    "environment_version": "2"
   },
   "inputWidgetPreferences": null,
   "language": "python",
   "notebookMetadata": {
    "mostRecentlyExecutedCommandWithImplicitDF": {
     "commandId": 8374615722046479,
     "dataframes": [
      "_sqldf"
     ]
    },
    "pythonIndentUnit": 4
   },
   "notebookName": "read.py",
   "widgets": {}
  },
  "language_info": {
   "name": "python"
  }
 },
 "nbformat": 4,
 "nbformat_minor": 0
}
